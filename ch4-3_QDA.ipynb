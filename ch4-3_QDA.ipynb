{
 "cells": [
  {
   "cell_type": "markdown",
   "id": "2e9234ce",
   "metadata": {},
   "source": [
    "<h1 style=\"text-align:center\">Ch 4.3. QDA<h1>"
   ]
  },
  {
   "cell_type": "code",
   "execution_count": 1,
   "id": "6a3332f1",
   "metadata": {},
   "outputs": [],
   "source": [
    "import numpy as np\n",
    "import matplotlib.pyplot as plt\n",
    "import statsmodels.api as sm\n",
    "from numba import jit"
   ]
  },
  {
   "cell_type": "markdown",
   "id": "c01c9e58",
   "metadata": {},
   "source": [
    " ## 1. Fit a quadratic model"
   ]
  },
  {
   "cell_type": "markdown",
   "id": "d3b9574b",
   "metadata": {},
   "source": [
    "### 1-1. Sample estimates (Gaussian Parameters)"
   ]
  },
  {
   "cell_type": "code",
   "execution_count": 2,
   "id": "2738b16e",
   "metadata": {},
   "outputs": [],
   "source": [
    "def prior_hat(N, N_k):\n",
    "    return N_k/N"
   ]
  },
  {
   "cell_type": "code",
   "execution_count": 3,
   "id": "3ad34477",
   "metadata": {},
   "outputs": [],
   "source": [
    "def mu_hat(x, N_k):\n",
    "    return np.sum(x, axis=0)/N_k "
   ]
  },
  {
   "cell_type": "code",
   "execution_count": 4,
   "id": "0fa47264",
   "metadata": {},
   "outputs": [],
   "source": [
    "def sig(x, mu_hat):\n",
    "    r,c = x.shape \n",
    "    S = (x[0,:]-mu_hat).T*(x[0,:]-mu_hat)\n",
    "    for i in range(1,r):\n",
    "        S += (x[i,:]-mu_hat).T*(x[i,:]-mu_hat)\n",
    "    return S"
   ]
  },
  {
   "cell_type": "markdown",
   "id": "4a726f85",
   "metadata": {},
   "source": [
    "### 1-2. Discrimination Function"
   ]
  },
  {
   "cell_type": "markdown",
   "id": "be336add",
   "metadata": {},
   "source": [
    "$$\\delta_k(x) = -\\frac{1}{2}\\log |\\Sigma_k| - \\frac{1}{2}(x - \\mu_k)^T \\Sigma_k^{-1}(x - \\mu_k) + \\log \\pi_k$$"
   ]
  },
  {
   "cell_type": "code",
   "execution_count": 5,
   "id": "2369e10a",
   "metadata": {},
   "outputs": [],
   "source": [
    "def Delta(x, sig_hat, mu_hat, prior_hat):\n",
    "    return -1/2*np.log(np.linalg.det(sig_hat)) - 1/2 * (x - mu_hat) * np.linalg.inv(sig_hat) * (x - mu_hat).T + np.log(prior_hat)  # x가 행렬꼴일 때여서 x의 transpose 대신 X, (N*1) 크기의 행렬이 됨"
   ]
  },
  {
   "cell_type": "code",
   "execution_count": 6,
   "id": "38e69da3",
   "metadata": {},
   "outputs": [],
   "source": [
    "def Deltas_QDA(x, sig_hats, mu_hats, prior_hats):\n",
    "    return [Delta(x, sig_hats, mu, prior) for (sig_hats, mu, prior) in zip(sig_hats, mu_hats, prior_hats)]"
   ]
  },
  {
   "cell_type": "code",
   "execution_count": 7,
   "id": "9dc33bed",
   "metadata": {},
   "outputs": [],
   "source": [
    "def find_G_hat(deltas):\n",
    "    return np.argmax(deltas, axis=0)[0,0]"
   ]
  },
  {
   "cell_type": "markdown",
   "id": "500d7fb6",
   "metadata": {},
   "source": [
    "## 2. Implementation for Example\n",
    "- $N = 100$\n",
    "- $K = 3$\n",
    "- $p=2$\n",
    "\n",
    "::LDA assumption::\n",
    " The classes have a common covariance matrix"
   ]
  },
  {
   "cell_type": "code",
   "execution_count": 8,
   "id": "6a545644",
   "metadata": {},
   "outputs": [],
   "source": [
    "# Input variables\n",
    "feature = 2\n",
    "N=100\n",
    "K=3\n",
    "\n",
    "np.random.seed(15)\n",
    "\n",
    "x1_x = np.matrix(np.random.normal(loc=0.8,scale=0.2,size=(40,1))) # loc=mean, scale=variation\n",
    "x1_y = np.matrix(np.random.normal(loc=1,scale=0.4,size=(40,1)))\n",
    "x1 = np.column_stack([x1_x, x1_y])\n",
    "\n",
    "x2_x = np.matrix(np.random.normal(1.5,0.1, size=(30,1)))\n",
    "x2_y = np.matrix(np.random.normal(3,0.3, size=(30,1)))\n",
    "x2 = np.column_stack([x2_x, x2_y])\n",
    "\n",
    "x3_x = np.matrix(np.random.normal(2.2,0.1, size=(30,1)))\n",
    "x3_y = np.matrix(np.random.normal(0.8, 0.1, size=(30,1)))\n",
    "x3 = np.column_stack([x3_x, x3_y])"
   ]
  },
  {
   "cell_type": "code",
   "execution_count": 9,
   "id": "30ef6c2b",
   "metadata": {},
   "outputs": [],
   "source": [
    "# data size of subsets\n",
    "n1,_ = x1.shape \n",
    "n2,_ = x2.shape\n",
    "n3,_ = x3.shape"
   ]
  },
  {
   "cell_type": "markdown",
   "id": "fdb19223",
   "metadata": {},
   "source": [
    "### 2-1. Estimated Gaussian parameters"
   ]
  },
  {
   "cell_type": "code",
   "execution_count": 10,
   "id": "7d9ea202",
   "metadata": {},
   "outputs": [],
   "source": [
    "xs = [x1, x2, x3]\n",
    "ns = [x.shape[0] for x in xs]\n",
    "prior_hats = [prior_hat(N, n) for n in ns] # estimated prior probabilities \n",
    "mu_hats_trsp = [mu_hat(x,n) for (x,n) in zip(xs, ns)] # estimated means \n",
    "sig_hats = [sig(x, mu) for (x, mu) in zip(xs, mu_hats_trsp)]  # sigs = sig1 + sig2 + ... + sigK"
   ]
  },
  {
   "cell_type": "markdown",
   "id": "72e5344a",
   "metadata": {},
   "source": [
    "### 2-2. New data"
   ]
  },
  {
   "cell_type": "code",
   "execution_count": 11,
   "id": "c5a231ea",
   "metadata": {},
   "outputs": [],
   "source": [
    "new_x = np.matrix(\"1.7 1.7\")\n",
    "new_x2 = np.matrix(\"0 1.5\")"
   ]
  },
  {
   "cell_type": "code",
   "execution_count": 12,
   "id": "ca0a8854",
   "metadata": {},
   "outputs": [
    {
     "data": {
      "text/plain": [
       "(1, 2)"
      ]
     },
     "execution_count": 12,
     "metadata": {},
     "output_type": "execute_result"
    }
   ],
   "source": [
    "new_x.shape"
   ]
  },
  {
   "cell_type": "code",
   "execution_count": 13,
   "id": "b1724559",
   "metadata": {},
   "outputs": [
    {
     "data": {
      "text/plain": [
       "[matrix([[-2.34832982]]), matrix([[-1.46634699]]), matrix([[-1.99546595]])]"
      ]
     },
     "execution_count": 13,
     "metadata": {},
     "output_type": "execute_result"
    }
   ],
   "source": [
    "Deltas_QDA(new_x, sig_hats, mu_hats_trsp, prior_hats)"
   ]
  },
  {
   "cell_type": "code",
   "execution_count": 14,
   "id": "226c1763",
   "metadata": {},
   "outputs": [
    {
     "name": "stdout",
     "output_type": "stream",
     "text": [
      "1\n",
      "Dog\n"
     ]
    }
   ],
   "source": [
    "G = find_G_hat(Deltas_QDA(new_x, sig_hats, mu_hats_trsp, prior_hats))\n",
    "print(G)\n",
    "if G == 0:\n",
    "    print(\"Cat\")\n",
    "elif G == 1:\n",
    "    print(\"Dog\")\n",
    "else:\n",
    "    print(\"Rabbit\")"
   ]
  },
  {
   "cell_type": "code",
   "execution_count": 15,
   "id": "36148879",
   "metadata": {},
   "outputs": [
    {
     "name": "stdout",
     "output_type": "stream",
     "text": [
      "0\n",
      "Cat\n"
     ]
    }
   ],
   "source": [
    "G2 = find_G_hat(Deltas_QDA(new_x2, sig_hats, mu_hats_trsp, prior_hats))\n",
    "print(G2)\n",
    "if G2 == 0:\n",
    "    print(\"Cat\")\n",
    "elif G2 == 1:\n",
    "    print(\"Dog\")\n",
    "else:\n",
    "    print(\"Rabbit\")"
   ]
  },
  {
   "cell_type": "markdown",
   "id": "201c0f6f",
   "metadata": {},
   "source": [
    "## 3. Plotting"
   ]
  },
  {
   "cell_type": "code",
   "execution_count": 16,
   "id": "104b5c13",
   "metadata": {},
   "outputs": [],
   "source": [
    "x11 = np.asarray(x1[:,0]).ravel()\n",
    "x12 = np.asarray(x1[:,1]).ravel()\n",
    "x21 = np.asarray(x2[:,0]).ravel()\n",
    "x22 = np.asarray(x2[:,1]).ravel()\n",
    "x31 = np.asarray(x3[:,0]).ravel()\n",
    "x32 = np.asarray(x3[:,1]).ravel()"
   ]
  },
  {
   "cell_type": "code",
   "execution_count": 17,
   "id": "079b8127",
   "metadata": {},
   "outputs": [
    {
     "data": {
      "text/plain": [
       "<matplotlib.collections.PathCollection at 0x7f73da809160>"
      ]
     },
     "execution_count": 17,
     "metadata": {},
     "output_type": "execute_result"
    },
    {
     "data": {
      "image/png": "[encoded data removed]",
      "text/plain": [
       "<Figure size 1200x750 with 1 Axes>"
      ]
     },
     "metadata": {
      "needs_background": "light"
     },
     "output_type": "display_data"
    }
   ],
   "source": [
    "# Use latex\n",
    "plt.rc('text', usetex=True)\n",
    "plt.rc('font', family='serif')\n",
    "\n",
    "# Prepare Plot\n",
    "plt.figure(figsize=(8,5), dpi=150)\n",
    "\n",
    "plt.scatter(x11, x12, color=\"orange\")\n",
    "plt.scatter(x21, x22, color=\"skyblue\")\n",
    "plt.scatter(x31, x32, color=\"olive\")\n",
    "plt.scatter(new_x[0,0],new_x[0,1], color=\"red\")\n",
    "plt.scatter(new_x2[0,0],new_x2[0,1], color=\"blue\")"
   ]
  },
  {
   "cell_type": "markdown",
   "id": "c2d6ed37",
   "metadata": {},
   "source": [
    "### 3-1. Decision Boundaries"
   ]
  },
  {
   "cell_type": "code",
   "execution_count": 18,
   "id": "9db9e845",
   "metadata": {},
   "outputs": [],
   "source": [
    "xs = np.arange(0.1, 2.6, 0.01)\n",
    "ys = np.arange(-2, 5, 0.01)"
   ]
  },
  {
   "cell_type": "code",
   "execution_count": 20,
   "id": "f06c8204",
   "metadata": {},
   "outputs": [],
   "source": [
    "def find_boundary(xs, ys, sig_hats, mu_hats_trsp, prior_hats):\n",
    "    B12 = []\n",
    "    B23 = []\n",
    "    B31 = []\n",
    "    for x in xs:\n",
    "#         b12_xstack = []\n",
    "#         b12_ystack = []\n",
    "        for y in ys:\n",
    "            X_temp = np.matrix([x,y])\n",
    "            Deltas_temp = Deltas_QDA(X_temp, sig_hats, mu_hats_trsp, prior_hats)\n",
    "            if abs((Deltas_temp[0]- Deltas_temp[1])[0,0]) < 0.01:\n",
    "#                 b12_xstack.append(x)\n",
    "#                 b12_ystack.append(y)\n",
    "                B12.append([x, y])\n",
    "            elif abs((Deltas_temp[1]- Deltas_temp[2])[0,0]) < 0.01:\n",
    "                B23.append([x, y])\n",
    "            elif abs((Deltas_temp[2]- Deltas_temp[0])[0,0]) < 2:\n",
    "                B31.append([x, y])\n",
    "#         if len(b12_ystack) > 0:\n",
    "#             i = np.argmax(b12_ystack)\n",
    "#             B12.append([b12_xstack[i], b12_ystack[i]])\n",
    "        \n",
    "    return (B12, B23, B31)"
   ]
  },
  {
   "cell_type": "code",
   "execution_count": 21,
   "id": "3938c4fc",
   "metadata": {},
   "outputs": [],
   "source": [
    "B12, B23, B31 = find_boundary(xs, ys, sig_hats, mu_hats_trsp, prior_hats)"
   ]
  },
  {
   "cell_type": "code",
   "execution_count": 22,
   "id": "12061d2d",
   "metadata": {},
   "outputs": [],
   "source": [
    "B12 = np.matrix(B12)\n",
    "B23 = np.matrix(B23)\n",
    "B31 = np.matrix(B31)"
   ]
  },
  {
   "cell_type": "code",
   "execution_count": 23,
   "id": "8e74bde2",
   "metadata": {},
   "outputs": [
    {
     "data": {
      "text/plain": [
       "matrix([[0.46, 0.67],\n",
       "        [0.46, 0.68],\n",
       "        [0.46, 0.69],\n",
       "        ...,\n",
       "        [2.59, 2.37],\n",
       "        [2.59, 2.38],\n",
       "        [2.59, 2.39]])"
      ]
     },
     "execution_count": 23,
     "metadata": {},
     "output_type": "execute_result"
    }
   ],
   "source": [
    "B31"
   ]
  },
  {
   "cell_type": "code",
   "execution_count": 24,
   "id": "ae16c570",
   "metadata": {},
   "outputs": [],
   "source": [
    "B12_x = np.asarray(B12[:,0]).ravel()\n",
    "B12_y = np.asarray(B12[:,1]).ravel()\n",
    "B23_x = np.asarray(B23[:,0]).ravel()\n",
    "B23_y = np.asarray(B23[:,1]).ravel()\n",
    "B31_x = np.asarray(B31[:,0]).ravel()\n",
    "B31_y = np.asarray(B31[:,1]).ravel()"
   ]
  },
  {
   "cell_type": "code",
   "execution_count": 25,
   "id": "d94d6d3c",
   "metadata": {},
   "outputs": [
    {
     "data": {
      "text/plain": [
       "(-2.0, 5.0)"
      ]
     },
     "execution_count": 25,
     "metadata": {},
     "output_type": "execute_result"
    },
    {
     "data": {
      "image/png": "[encoded data removed]",
      "text/plain": [
       "<Figure size 1200x750 with 1 Axes>"
      ]
     },
     "metadata": {
      "needs_background": "light"
     },
     "output_type": "display_data"
    }
   ],
   "source": [
    "# Prepare Plot\n",
    "plt.figure(figsize=(8,5), dpi=150)\n",
    "\n",
    "plt.scatter(x11, x12, color=\"orange\", label=\"Cat\")\n",
    "plt.scatter(x21, x22, color=\"skyblue\", label=\"Dog\")\n",
    "plt.scatter(x31, x32, color=\"olive\", label=\"Rabbit\")\n",
    "plt.scatter(new_x[0,0],new_x[0,1], color=\"red\")\n",
    "\n",
    "plt.scatter(B12_x, B12_y, s=0.1, color=\"olivedrab\", marker='.', label=r\"D.B. cat $\\Leftrightarrow$ dog\")\n",
    "plt.scatter(B23_x, B23_y, s=0.1, color=\"sandybrown\", marker='.', label=r\"D.B. dog $\\Leftrightarrow$ rabbit\")\n",
    "# plt.scatter(B31_x, B31_y, s=0.1, color=\"cadetblue\", marker='.', label=\"D.B. rabbit $\\Leftrightarrow$ cat\")\n",
    "\n",
    "plt.legend(loc=\"lower right\")\n",
    "plt.xlim([0.4, 2.5])\n",
    "plt.ylim([-2,5])"
   ]
  },
  {
   "cell_type": "code",
   "execution_count": 26,
   "id": "53c794c2",
   "metadata": {},
   "outputs": [
    {
     "data": {
      "text/plain": [
       "[matrix([[ 0.74758139, -0.12073369],\n",
       "         [-0.12073369,  0.1557332 ]]),\n",
       " matrix([[3.04731776, 0.09555891],\n",
       "         [0.09555891, 0.47199089]]),\n",
       " matrix([[ 2.75550327, -0.11914902],\n",
       "         [-0.11914902,  3.85161436]])]"
      ]
     },
     "execution_count": 26,
     "metadata": {},
     "output_type": "execute_result"
    }
   ],
   "source": [
    "[np.linalg.inv(sig) for sig in sig_hats]"
   ]
  },
  {
   "cell_type": "code",
   "execution_count": null,
   "id": "11bf49d7",
   "metadata": {},
   "outputs": [],
   "source": []
  }
 ],
 "metadata": {
  "kernelspec": {
   "display_name": "Python 3",
   "language": "python",
   "name": "python3"
  },
  "language_info": {
   "codemirror_mode": {
    "name": "ipython",
    "version": 3
   },
   "file_extension": ".py",
   "mimetype": "text/x-python",
   "name": "python",
   "nbconvert_exporter": "python",
   "pygments_lexer": "ipython3",
   "version": "3.9.5"
  }
 },
 "nbformat": 4,
 "nbformat_minor": 5
}
