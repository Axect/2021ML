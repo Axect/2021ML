{
 "cells": [
  {
   "cell_type": "markdown",
   "id": "c369398f",
   "metadata": {},
   "source": [
    "<h1 style=\"text-align:center\">Ch4.2 Linear Regression of Indicator Matrix<h1>"
   ]
  },
  {
   "cell_type": "code",
   "execution_count": 1,
   "id": "c3bd0de6",
   "metadata": {},
   "outputs": [
    {
     "data": {
      "application/javascript": [
       "IPython.OutputArea.prototype._should_scroll = function(lines) {\n",
       "    return false;\n",
       "}\n"
      ],
      "text/plain": [
       "<IPython.core.display.Javascript object>"
      ]
     },
     "metadata": {},
     "output_type": "display_data"
    }
   ],
   "source": [
    "%%javascript\n",
    "IPython.OutputArea.prototype._should_scroll = function(lines) {\n",
    "    return false;\n",
    "}\n"
   ]
  },
  {
   "cell_type": "code",
   "execution_count": 2,
   "id": "3eaa3d7f",
   "metadata": {},
   "outputs": [],
   "source": [
    "import numpy as np\n",
    "import matplotlib.pyplot as plt\n",
    "import statsmodels.api as sm"
   ]
  },
  {
   "cell_type": "markdown",
   "id": "ece0ff35",
   "metadata": {},
   "source": [
    "## 1. Fit a linear model"
   ]
  },
  {
   "cell_type": "markdown",
   "id": "9d9a3081",
   "metadata": {},
   "source": [
    "$$\\hat{\\mathbf{Y}} = \\mathbf{X}(\\mathbf{X}^T\\mathbf{X})^{-1}\\mathbf{X}^{T}\\mathbf{Y}$$\n",
    "$$\\hat{G}(x) = \\mathrm{argmax}_{k\\in \\mathcal{g}} \\hat{f}_k(x)$$"
   ]
  },
  {
   "cell_type": "code",
   "execution_count": 3,
   "id": "0529b297",
   "metadata": {},
   "outputs": [],
   "source": [
    "def find_Beta_hat_IM(X,Y):\n",
    "    return np.linalg.pinv(X) * Y\n",
    "\n",
    "def find_Y_hat(X, Beta):\n",
    "    return X * Beta\n",
    "\n",
    "def find_G_hat(y_hat):\n",
    "    return np.argmax(y_hat, axis=1)"
   ]
  },
  {
   "cell_type": "markdown",
   "id": "554a4112",
   "metadata": {},
   "source": [
    "## 2. Implementation for Example"
   ]
  },
  {
   "cell_type": "markdown",
   "id": "a13a4152",
   "metadata": {},
   "source": [
    "### 2-1. For the binary classification\n",
    "with $N=100$ observations and $K=2$ classes, The $(N \\times K)$ indicator response matrix $\\mathbf{Y}$ is:\n",
    "$$\\mathbf{Y} = \n",
    "\\begin{pmatrix}\n",
    "1 & & 0 \\\\ 1 & & 0 \\\\ &\\vdots& \\\\ 0 & & 1 \\\\ 0 & & 1\n",
    "\\end{pmatrix}\n",
    "$$\n",
    "It contains 50 $(1, 0)$ row vectors upside and 50 $(0, 1)$ row vectors from middle to bottom"
   ]
  },
  {
   "cell_type": "code",
   "execution_count": 4,
   "id": "030f33b7",
   "metadata": {},
   "outputs": [
    {
     "data": {
      "text/plain": [
       "(100, 3)"
      ]
     },
     "execution_count": 4,
     "metadata": {},
     "output_type": "execute_result"
    }
   ],
   "source": [
    "# Input variables\n",
    "feature = 2\n",
    "np.random.seed(15)\n",
    "\n",
    "x1 = np.random.normal(loc=0.8,scale=0.1,size=(50,feature)) # loc=mean, scale=variation\n",
    "x2 = np.random.normal(2,0.15, size=(50,feature))\n",
    "\n",
    "X = np.vstack((x1,x2))\n",
    "X_add_1 = sm.add_constant(X)\n",
    "X_add_1.shape"
   ]
  },
  {
   "cell_type": "code",
   "execution_count": 5,
   "id": "509ad407",
   "metadata": {},
   "outputs": [
    {
     "data": {
      "text/plain": [
       "(100, 2)"
      ]
     },
     "execution_count": 5,
     "metadata": {},
     "output_type": "execute_result"
    }
   ],
   "source": [
    "Y1 = np.matrix([1,0]) #: cat\n",
    "Y2 = np.matrix([0,1]) #: dog\n",
    "Yup = np.tile(Y1, (50,1))\n",
    "Ydown = np.tile(Y2, (50,1))\n",
    "\n",
    "Y = np.vstack((Yup, Ydown))\n",
    "Y.shape"
   ]
  },
  {
   "cell_type": "markdown",
   "id": "64670d17",
   "metadata": {},
   "source": [
    "#### From the linear regression, find the intercept and coefficients"
   ]
  },
  {
   "cell_type": "code",
   "execution_count": 6,
   "id": "6d9dac61",
   "metadata": {},
   "outputs": [
    {
     "data": {
      "text/plain": [
       "matrix([[ 1.64984111, -0.64984111],\n",
       "        [-0.53863399,  0.53863399],\n",
       "        [-0.28815949,  0.28815949]])"
      ]
     },
     "execution_count": 6,
     "metadata": {},
     "output_type": "execute_result"
    }
   ],
   "source": [
    "Beta_hat_IM = find_Beta_hat_IM(X_add_1,Y)\n",
    "Beta_hat_IM"
   ]
  },
  {
   "cell_type": "markdown",
   "id": "b8b37175",
   "metadata": {},
   "source": [
    "### 2-2. Classify data "
   ]
  },
  {
   "cell_type": "code",
   "execution_count": 7,
   "id": "13c40609",
   "metadata": {
    "scrolled": true
   },
   "outputs": [
    {
     "data": {
      "text/plain": [
       "matrix([[1.        , 1.99038368, 0.45389678]])"
      ]
     },
     "execution_count": 7,
     "metadata": {},
     "output_type": "execute_result"
    }
   ],
   "source": [
    "new_x = np.random.normal(1.7,2,2)\n",
    "new_x_add_1 = np.insert(new_x, 0, 1)\n",
    "new_x_add_1 = np.matrix(new_x_add_1)\n",
    "new_x_add_1"
   ]
  },
  {
   "cell_type": "code",
   "execution_count": 8,
   "id": "9213e49e",
   "metadata": {},
   "outputs": [
    {
     "data": {
      "text/plain": [
       "matrix([[0.44695814, 0.55304186]])"
      ]
     },
     "execution_count": 8,
     "metadata": {},
     "output_type": "execute_result"
    }
   ],
   "source": [
    "Y_hat_IM = find_Y_hat(new_x_add_1, Beta_hat_IM)\n",
    "Y_hat_IM"
   ]
  },
  {
   "cell_type": "code",
   "execution_count": 9,
   "id": "875ed949",
   "metadata": {},
   "outputs": [
    {
     "name": "stdout",
     "output_type": "stream",
     "text": [
      "Dog!\n"
     ]
    }
   ],
   "source": [
    "G_hat_IM = find_G_hat(Y_hat_IM)\n",
    "if G_hat_IM == np.matrix([1]):\n",
    "    print(\"Dog!\")\n",
    "else:\n",
    "    print(\"Cat!\")"
   ]
  },
  {
   "cell_type": "markdown",
   "id": "dc0ce80c",
   "metadata": {},
   "source": [
    "### $\\Rightarrow$ New data is classified as a Cat!"
   ]
  },
  {
   "cell_type": "markdown",
   "id": "e1bbd192",
   "metadata": {},
   "source": [
    "## 3. Plotting"
   ]
  },
  {
   "cell_type": "code",
   "execution_count": 10,
   "id": "ba3faf90",
   "metadata": {},
   "outputs": [],
   "source": [
    "x11_IM = x1[:,0]\n",
    "x12_IM = x1[:,1]\n",
    "x21_IM = x2[:,0]\n",
    "x22_IM = x2[:,1]"
   ]
  },
  {
   "cell_type": "code",
   "execution_count": 11,
   "id": "e8f0d90b",
   "metadata": {},
   "outputs": [
    {
     "data": {
      "text/plain": [
       "<matplotlib.collections.PathCollection at 0x7fc57c626a60>"
      ]
     },
     "execution_count": 11,
     "metadata": {},
     "output_type": "execute_result"
    },
    {
     "data": {
      "image/png": "[encoded data removed]",
      "text/plain": [
       "<Figure size 432x288 with 1 Axes>"
      ]
     },
     "metadata": {
      "needs_background": "light"
     },
     "output_type": "display_data"
    }
   ],
   "source": [
    "plt.scatter(x11_IM, x12_IM, color=\"orange\")\n",
    "plt.scatter(x21_IM, x22_IM, color=\"olive\")"
   ]
  },
  {
   "cell_type": "code",
   "execution_count": 12,
   "id": "e846f567",
   "metadata": {},
   "outputs": [
    {
     "data": {
      "text/plain": [
       "<matplotlib.collections.PathCollection at 0x7fc57c4bd190>"
      ]
     },
     "execution_count": 12,
     "metadata": {},
     "output_type": "execute_result"
    },
    {
     "data": {
      "image/png": "[encoded data removed]",
      "text/plain": [
       "<Figure size 432x288 with 1 Axes>"
      ]
     },
     "metadata": {
      "needs_background": "light"
     },
     "output_type": "display_data"
    }
   ],
   "source": [
    "plt.scatter(x11_IM, x12_IM, color=\"orange\")\n",
    "plt.scatter(x21_IM, x22_IM, color=\"olive\")\n",
    "plt.scatter(new_x[0],new_x[1], color=\"red\")"
   ]
  },
  {
   "cell_type": "markdown",
   "id": "faa1ae40",
   "metadata": {},
   "source": [
    "### 3-1. Decision Boundary"
   ]
  },
  {
   "cell_type": "code",
   "execution_count": 13,
   "id": "f27a056c",
   "metadata": {},
   "outputs": [
    {
     "data": {
      "text/plain": [
       "2.2996822194843296"
      ]
     },
     "execution_count": 13,
     "metadata": {},
     "output_type": "execute_result"
    }
   ],
   "source": [
    "itc_1 = Beta_hat_IM[0,0]\n",
    "itc_2 = Beta_hat_IM[0,1]\n",
    "itc = itc_1-itc_2\n",
    "itc"
   ]
  },
  {
   "cell_type": "code",
   "execution_count": 14,
   "id": "7ba52c5f",
   "metadata": {},
   "outputs": [
    {
     "data": {
      "text/plain": [
       "matrix([[ 1.64984111, -0.64984111],\n",
       "        [-0.53863399,  0.53863399],\n",
       "        [-0.28815949,  0.28815949]])"
      ]
     },
     "execution_count": 14,
     "metadata": {},
     "output_type": "execute_result"
    }
   ],
   "source": [
    "Beta_hat_IM # (p+1)xK matrix"
   ]
  },
  {
   "cell_type": "code",
   "execution_count": 15,
   "id": "214c15f6",
   "metadata": {},
   "outputs": [
    {
     "data": {
      "text/plain": [
       "array([[-1.07726798]])"
      ]
     },
     "execution_count": 15,
     "metadata": {},
     "output_type": "execute_result"
    }
   ],
   "source": [
    "coeff_1 = Beta_hat_IM[1:3,0]\n",
    "coeff_2 = Beta_hat_IM[1:3,1]\n",
    "B_1 = np.array( (coeff_1 - coeff_2)[0] )\n",
    "B_2 = np.array( (coeff_1 - coeff_2)[1] )\n",
    "B_1"
   ]
  },
  {
   "cell_type": "code",
   "execution_count": 16,
   "id": "17ac677e",
   "metadata": {},
   "outputs": [],
   "source": [
    "def find_boundary(x):\n",
    "    return - (itc * np.ones(len(x)) + x * B_1 ) / B_2"
   ]
  },
  {
   "cell_type": "code",
   "execution_count": 17,
   "id": "d3737b41",
   "metadata": {},
   "outputs": [
    {
     "data": {
      "text/plain": [
       "(100,)"
      ]
     },
     "execution_count": 17,
     "metadata": {},
     "output_type": "execute_result"
    }
   ],
   "source": [
    "X[:,0].shape"
   ]
  },
  {
   "cell_type": "code",
   "execution_count": 18,
   "id": "ee327715",
   "metadata": {},
   "outputs": [
    {
     "data": {
      "text/plain": [
       "(100,)"
      ]
     },
     "execution_count": 18,
     "metadata": {},
     "output_type": "execute_result"
    }
   ],
   "source": [
    "X1 = X[:,0]\n",
    "X2 = np.asarray(find_boundary(X1)).ravel()\n",
    "X2.shape"
   ]
  },
  {
   "cell_type": "code",
   "execution_count": 19,
   "id": "1639b80d",
   "metadata": {
    "scrolled": true
   },
   "outputs": [
    {
     "data": {
      "image/png": "[encoded data removed]",
      "text/plain": [
       "<Figure size 432x288 with 1 Axes>"
      ]
     },
     "metadata": {
      "needs_background": "light"
     },
     "output_type": "display_data"
    }
   ],
   "source": [
    "plt.plot(X1,X2)\n",
    "plt.show()"
   ]
  },
  {
   "cell_type": "code",
   "execution_count": 20,
   "id": "87718b27",
   "metadata": {
    "scrolled": true
   },
   "outputs": [
    {
     "data": {
      "image/png": "[encoded data removed]",
      "text/plain": [
       "<Figure size 1200x750 with 1 Axes>"
      ]
     },
     "metadata": {
      "needs_background": "light"
     },
     "output_type": "display_data"
    }
   ],
   "source": [
    "plt.rc('text', usetex=True)\n",
    "plt.rc('font', family='serif')\n",
    "\n",
    "plt.figure(figsize=(8,5), dpi=150)\n",
    "plt.title(r\"Classfication by Indicator with $K=2$\", fontsize=16)\n",
    "plt.xlabel(r'$X_1$', fontsize=14)\n",
    "plt.ylabel(r'$X_2$', fontsize=14)\n",
    "\n",
    "plt.plot(X1,X2, color=\"darkviolet\", label=\"Decision boundary\")\n",
    "plt.scatter(x11_IM, x12_IM, color=\"orange\", label=\"Cat\")\n",
    "plt.scatter(x21_IM, x22_IM, color=\"olive\", label=\"Dog\")\n",
    "plt.scatter(new_x[0],new_x[1], color=\"red\", edgecolors=\"black\", label=\"New\")\n",
    "\n",
    "plt.legend()\n",
    "plt.show()"
   ]
  },
  {
   "cell_type": "code",
   "execution_count": null,
   "id": "a8124b92",
   "metadata": {
    "scrolled": true
   },
   "outputs": [],
   "source": []
  }
 ],
 "metadata": {
  "kernelspec": {
   "display_name": "Python 3",
   "language": "python",
   "name": "python3"
  },
  "language_info": {
   "codemirror_mode": {
    "name": "ipython",
    "version": 3
   },
   "file_extension": ".py",
   "mimetype": "text/x-python",
   "name": "python",
   "nbconvert_exporter": "python",
   "pygments_lexer": "ipython3",
   "version": "3.9.5"
  }
 },
 "nbformat": 4,
 "nbformat_minor": 5
}
