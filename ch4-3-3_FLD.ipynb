{
 "cells": [
  {
   "cell_type": "markdown",
   "id": "fedfe0b7",
   "metadata": {},
   "source": [
    "<h1 style=\"text-align:center\"> Fisher's Linear Discriminant </h1>\n",
    "    <h3 style=\"text-align:center\"> Fisher's Reduced-Rank Linear Discriminant Analysis</h3>  "
   ]
  },
  {
   "cell_type": "code",
   "execution_count": 1,
   "id": "662336a9",
   "metadata": {},
   "outputs": [],
   "source": [
    "import numpy as np\n",
    "import matplotlib.pyplot as plt\n",
    "import statsmodels.api as sm\n",
    "import seaborn as sns"
   ]
  },
  {
   "cell_type": "markdown",
   "id": "1d0d86be",
   "metadata": {},
   "source": [
    " ## 1. Fit a linear model"
   ]
  },
  {
   "cell_type": "markdown",
   "id": "fb75e99b",
   "metadata": {},
   "source": [
    "### 1-1. Sample estimator"
   ]
  },
  {
   "cell_type": "code",
   "execution_count": 2,
   "id": "6e35d870",
   "metadata": {},
   "outputs": [],
   "source": [
    "# k-Class mean\n",
    "\n",
    "def mu_hat(x, N_k):\n",
    "    return np.sum(x, axis=0)/N_k"
   ]
  },
  {
   "cell_type": "code",
   "execution_count": 3,
   "id": "f17745b7",
   "metadata": {},
   "outputs": [],
   "source": [
    "# The covariance matrix\n",
    "\n",
    "def sig(x, mu_hat):\n",
    "    r,c = x.shape\n",
    "    S = (x[0,:]-mu_hat).T*(x[0,:]-mu_hat) # both x[0,:] and mu_hat are row vectors\n",
    "    for i in range(1,r):\n",
    "        S += (x[i,:]-mu_hat).T*(x[i,:]-mu_hat)\n",
    "    return S"
   ]
  },
  {
   "cell_type": "markdown",
   "id": "b52cf575",
   "metadata": {},
   "source": [
    "## 2. For 2 classes"
   ]
  },
  {
   "cell_type": "markdown",
   "id": "48e5792a",
   "metadata": {},
   "source": [
    "### 2-1. Coefficients from the Rayleigh quotient"
   ]
  },
  {
   "cell_type": "markdown",
   "id": "59aa537f",
   "metadata": {},
   "source": [
    "$$\\begin{align}\n",
    "J(a) &= \\frac{\\lVert a^T\\mu_1 - a^T \\mu_2 \\rVert^2}{a^T \\Sigma_1 a + a^T \\Sigma_2 a} \\\\\n",
    "&= \\frac{a^T S_B a}{a^T S_W a}\n",
    "\\end{align}$$\n",
    "- $S_B$ : The between-class covariance matrix  \n",
    "- $S_W$ : The within-class covariance matrix\n",
    "\n",
    "$$\\max_a J(a) \\; \\Rightarrow \\; a \\propto S_W^{-1}(m_1 - m_2)$$"
   ]
  },
  {
   "cell_type": "code",
   "execution_count": 4,
   "id": "794e6b0d",
   "metadata": {},
   "outputs": [],
   "source": [
    "def coeff_2k(sigW, m1, m2):\n",
    "    inv_sigW = np.linalg.inv(sigW)\n",
    "    return inv_sigW * (m1 - m2).T"
   ]
  },
  {
   "cell_type": "markdown",
   "id": "a49592ad",
   "metadata": {},
   "source": [
    "$$S_W = \\Sigma_1 + \\Sigma_2$$"
   ]
  },
  {
   "cell_type": "code",
   "execution_count": 5,
   "id": "ceaa9852",
   "metadata": {},
   "outputs": [],
   "source": [
    "def sigW_2k(xs, mu_hats):\n",
    "    S1 = sig(xs[0], mu_hats[0]) \n",
    "    S2 = sig(xs[1], mu_hats[0])\n",
    "    return S1 + S2"
   ]
  },
  {
   "cell_type": "markdown",
   "id": "0658e317",
   "metadata": {},
   "source": [
    "### 2-2. Example\n",
    "\n",
    "- The number of data, $N = 100$\n",
    "- The number of features, $p = 4$\n",
    "- The number of classes, $K = 2$"
   ]
  },
  {
   "cell_type": "markdown",
   "id": "c65a0a38",
   "metadata": {},
   "source": [
    "#### 2-2-1. Input values"
   ]
  },
  {
   "cell_type": "code",
   "execution_count": 6,
   "id": "3aa181a1",
   "metadata": {},
   "outputs": [],
   "source": [
    "np.random.seed(15)\n",
    "\n",
    "x1_p1 = np.matrix(np.random.normal(loc=0.8,scale=0.1,size=(40,1))) \n",
    "x1_p2 = np.matrix(np.random.normal(loc=1,scale=0.4,size=(40,1)))\n",
    "x1_p3 = np.matrix(np.random.normal(loc=0.3,scale=0.2,size=(40,1)))\n",
    "x1_p4 = np.matrix(np.random.normal(loc=0.2,scale=0.5,size=(40,1)))\n",
    "x1 = np.column_stack([x1_p1, x1_p2, x1_p3, x1_p4])\n",
    "\n",
    "x2_p1 = np.matrix(np.random.normal(2,0.3, size=(60,1)))\n",
    "x2_p2 = np.matrix(np.random.normal(3,0.2, size=(60,1)))\n",
    "x2_p3 = np.matrix(np.random.normal(0.2,0.5, size=(60,1)))\n",
    "x2_p4 = np.matrix(np.random.normal(0.7,0.8, size=(60,1)))\n",
    "x2 = np.column_stack([x2_p1, x2_p2, x2_p3, x2_p4])"
   ]
  },
  {
   "cell_type": "markdown",
   "id": "f013feb0",
   "metadata": {},
   "source": [
    "#### 2-2-2. Calculate mean, variance, and coefficient"
   ]
  },
  {
   "cell_type": "code",
   "execution_count": 7,
   "id": "d65bec05",
   "metadata": {},
   "outputs": [],
   "source": [
    "m1 = mu_hat(x1, 40) # (1X4) matrix\n",
    "m2 = mu_hat(x2, 60)"
   ]
  },
  {
   "cell_type": "code",
   "execution_count": 8,
   "id": "5d718b6c",
   "metadata": {},
   "outputs": [
    {
     "data": {
      "text/plain": [
       "(1, 4)"
      ]
     },
     "execution_count": 8,
     "metadata": {},
     "output_type": "execute_result"
    }
   ],
   "source": [
    "m1.shape"
   ]
  },
  {
   "cell_type": "code",
   "execution_count": 9,
   "id": "7b88e594",
   "metadata": {},
   "outputs": [
    {
     "data": {
      "text/plain": [
       "matrix([[ 1.42380282,  2.33671335, -0.18885126,  0.56500604],\n",
       "        [ 2.33671335,  3.83496171, -0.30993847,  0.92727529],\n",
       "        [-0.18885126, -0.30993847,  0.02504897, -0.07494163],\n",
       "        [ 0.56500604,  0.92727529, -0.07494163,  0.2242107 ]])"
      ]
     },
     "execution_count": 9,
     "metadata": {},
     "output_type": "execute_result"
    }
   ],
   "source": [
    "SigB_2k = sig(m1, m2) \n",
    "SigB_2k"
   ]
  },
  {
   "cell_type": "code",
   "execution_count": 10,
   "id": "630288b0",
   "metadata": {},
   "outputs": [
    {
     "data": {
      "text/plain": [
       "matrix([[ 91.0837921 , 140.7682961 , -13.61798512,  33.71943395],\n",
       "        [140.7682961 , 239.64530859, -19.11239747,  54.58711545],\n",
       "        [-13.61798512, -19.11239747,  17.22442519,  -1.07765731],\n",
       "        [ 33.71943395,  54.58711545,  -1.07765731,  63.01412496]])"
      ]
     },
     "execution_count": 10,
     "metadata": {},
     "output_type": "execute_result"
    }
   ],
   "source": [
    "xs = [x1, x2]\n",
    "mu_hats = [m1, m2]\n",
    "SigW_2k = sigW_2k(xs, mu_hats)\n",
    "SigW_2k"
   ]
  },
  {
   "cell_type": "code",
   "execution_count": 11,
   "id": "cf2f4b5e",
   "metadata": {},
   "outputs": [
    {
     "data": {
      "text/plain": [
       "matrix([[-0.00521439],\n",
       "        [-0.00507993],\n",
       "        [-0.0005916 ],\n",
       "        [-0.0003336 ]])"
      ]
     },
     "execution_count": 11,
     "metadata": {},
     "output_type": "execute_result"
    }
   ],
   "source": [
    "coeffs_2k = coeff_2k(SigW_2k, m1, m2)\n",
    "coeffs_2k"
   ]
  },
  {
   "cell_type": "markdown",
   "id": "71d10ea9",
   "metadata": {},
   "source": [
    "#### 2-2-3. Choose the threshold"
   ]
  },
  {
   "cell_type": "markdown",
   "id": "058fa9d9",
   "metadata": {},
   "source": [
    "In the text book, we should choose an adequate threshold and then I use the Mahalanobis distance.\n",
    "\n",
    "$$c_m = \\frac{s_2m_1 + s_2m_2}{s_1 + s_2}$$\n",
    "\n",
    "- $m$: The projected mean value\n",
    "- $s$: The standard deviation"
   ]
  },
  {
   "cell_type": "code",
   "execution_count": 12,
   "id": "d8599c57",
   "metadata": {},
   "outputs": [],
   "source": [
    "proj_m1 = m1 * coeffs_2k\n",
    "proj_m2 = m2 * coeffs_2k\n",
    "s1 = np.std(x1 * coeffs_2k)\n",
    "s2 = np.std(x2 * coeffs_2k)"
   ]
  },
  {
   "cell_type": "code",
   "execution_count": 13,
   "id": "2a85f24d",
   "metadata": {},
   "outputs": [],
   "source": [
    "def threshold(s1, s2, proj_m1, proj_m2, coeff):\n",
    "    return ((s2 * proj_m1 + s1 * proj_m2) / (s1 + s2))[0,0]"
   ]
  },
  {
   "cell_type": "code",
   "execution_count": 14,
   "id": "0ae6c523",
   "metadata": {},
   "outputs": [
    {
     "data": {
      "text/plain": [
       "-0.01913479984870239"
      ]
     },
     "execution_count": 14,
     "metadata": {},
     "output_type": "execute_result"
    }
   ],
   "source": [
    "cm = threshold(s1, s2, proj_m1, proj_m2, coeffs_2k)\n",
    "cm"
   ]
  },
  {
   "cell_type": "code",
   "execution_count": 15,
   "id": "e118abb9",
   "metadata": {},
   "outputs": [
    {
     "data": {
      "text/plain": [
       "matrix([[-0.02580872]])"
      ]
     },
     "execution_count": 15,
     "metadata": {},
     "output_type": "execute_result"
    }
   ],
   "source": [
    "proj_m2"
   ]
  },
  {
   "cell_type": "markdown",
   "id": "32c8f4a8",
   "metadata": {},
   "source": [
    "#### 2-3-4. Test by the decision rule"
   ]
  },
  {
   "cell_type": "code",
   "execution_count": 16,
   "id": "c81fa9e2",
   "metadata": {},
   "outputs": [
    {
     "name": "stdout",
     "output_type": "stream",
     "text": [
      "x1 belongs to class 1\n"
     ]
    }
   ],
   "source": [
    "if x1[10,:] * coeffs_2k > cm:\n",
    "    print(\"x1 belongs to class 1\")\n",
    "else:\n",
    "    print(\"x1 belongs to class 2\")"
   ]
  },
  {
   "cell_type": "code",
   "execution_count": 17,
   "id": "1d008a01",
   "metadata": {},
   "outputs": [
    {
     "name": "stdout",
     "output_type": "stream",
     "text": [
      "x2 belongs to class 2\n"
     ]
    }
   ],
   "source": [
    "if x2[10,:] * coeffs_2k > cm:\n",
    "    print(\"x1 belongs to class 1\")\n",
    "else:\n",
    "    print(\"x2 belongs to class 2\")"
   ]
  },
  {
   "cell_type": "code",
   "execution_count": 18,
   "id": "01cd08ed",
   "metadata": {},
   "outputs": [
    {
     "data": {
      "text/plain": [
       "matrix([[2.17528963, 1.51631199, 2.14368803, 1.11004105]])"
      ]
     },
     "execution_count": 18,
     "metadata": {},
     "output_type": "execute_result"
    }
   ],
   "source": [
    "new_x = np.matrix(np.random.normal(loc=1.5,scale=0.4,size=(1,4))) \n",
    "new_x"
   ]
  },
  {
   "cell_type": "code",
   "execution_count": 19,
   "id": "7d3be628",
   "metadata": {},
   "outputs": [
    {
     "name": "stdout",
     "output_type": "stream",
     "text": [
      "New data belongs to class 2\n"
     ]
    }
   ],
   "source": [
    "if new_x * coeffs_2k > cm:\n",
    "    print(\"New data belongs to class 1\")\n",
    "else:\n",
    "    print(\"New data belongs to class 2\")"
   ]
  },
  {
   "cell_type": "markdown",
   "id": "44dbddf4",
   "metadata": {},
   "source": [
    "## 3. Plotting (2 features)"
   ]
  },
  {
   "cell_type": "code",
   "execution_count": 20,
   "id": "77de257f",
   "metadata": {},
   "outputs": [],
   "source": [
    "plot_x1 = x1[:, 0:2]\n",
    "plot_x2 = x2[:, 0:2]\n",
    "plot_x = np.vstack((plot_x1, plot_x2))"
   ]
  },
  {
   "cell_type": "code",
   "execution_count": 21,
   "id": "c499673c",
   "metadata": {},
   "outputs": [],
   "source": [
    "plot_m1= mu_hat(plot_x1, 40)\n",
    "plot_m2 = mu_hat(plot_x2, 60)"
   ]
  },
  {
   "cell_type": "code",
   "execution_count": 22,
   "id": "2ff018b1",
   "metadata": {},
   "outputs": [],
   "source": [
    "plot_Sig_2k = sig(plot_m1, plot_m2)"
   ]
  },
  {
   "cell_type": "code",
   "execution_count": 23,
   "id": "8ad7083b",
   "metadata": {},
   "outputs": [
    {
     "data": {
      "text/plain": [
       "matrix([[ 91.0837921 , 140.7682961 ],\n",
       "        [140.7682961 , 239.64530859]])"
      ]
     },
     "execution_count": 23,
     "metadata": {},
     "output_type": "execute_result"
    }
   ],
   "source": [
    "plot_xs = [plot_x1, plot_x2]\n",
    "plot_mu_hats = [plot_m1, plot_m2]\n",
    "plot_SigW_2k = sigW_2k(plot_xs, plot_mu_hats)\n",
    "plot_SigW_2k"
   ]
  },
  {
   "cell_type": "code",
   "execution_count": 24,
   "id": "2e7621d0",
   "metadata": {},
   "outputs": [
    {
     "data": {
      "text/plain": [
       "matrix([[-0.00511165],\n",
       "        [-0.00516909]])"
      ]
     },
     "execution_count": 24,
     "metadata": {},
     "output_type": "execute_result"
    }
   ],
   "source": [
    "plot_coeffs_2k = coeff_2k(plot_SigW_2k, plot_m1, plot_m2)\n",
    "plot_coeffs_2k"
   ]
  },
  {
   "cell_type": "code",
   "execution_count": 25,
   "id": "ae18fc3e",
   "metadata": {},
   "outputs": [],
   "source": [
    "plot_proj_m1 = plot_m1 * plot_coeffs_2k\n",
    "plot_proj_m2 = plot_m2 * plot_coeffs_2k\n",
    "plot_s1 = np.std(plot_x1 * plot_coeffs_2k)\n",
    "plot_s2 = np.std(plot_x2 * plot_coeffs_2k)"
   ]
  },
  {
   "cell_type": "code",
   "execution_count": 26,
   "id": "5bab71fd",
   "metadata": {},
   "outputs": [],
   "source": [
    "plot_cm = threshold(plot_s1, plot_s2, plot_proj_m1, plot_proj_m2, plot_coeffs_2k)"
   ]
  },
  {
   "cell_type": "markdown",
   "id": "a6cb02a4",
   "metadata": {},
   "source": [
    "### 3-1. Test"
   ]
  },
  {
   "cell_type": "code",
   "execution_count": 27,
   "id": "c95769dd",
   "metadata": {},
   "outputs": [],
   "source": [
    "plot_new_x = np.array([1.6,2]) "
   ]
  },
  {
   "cell_type": "code",
   "execution_count": 28,
   "id": "ea4b6ba9",
   "metadata": {},
   "outputs": [
    {
     "name": "stdout",
     "output_type": "stream",
     "text": [
      "New data belongs to class 1\n"
     ]
    }
   ],
   "source": [
    "if plot_new_x * plot_coeffs_2k > plot_cm:\n",
    "    print(\"New data belongs to class 1\")\n",
    "else:\n",
    "    print(\"New data belongs to class 2\")"
   ]
  },
  {
   "cell_type": "markdown",
   "id": "bc55ea4a",
   "metadata": {},
   "source": [
    "### 3-2. Decision Boundary\n",
    "$$y = -\\frac{a_1}{a_2} x + \\frac{c_m}{a_2}$$"
   ]
  },
  {
   "cell_type": "code",
   "execution_count": 29,
   "id": "05bbc5da",
   "metadata": {},
   "outputs": [],
   "source": [
    "line_x = np.array(plot_x[:,0])\n",
    "\n",
    "line_coeff1 = np.array(plot_coeffs_2k[0])\n",
    "line_coeff2 = np.array(plot_coeffs_2k[1])\n",
    "\n",
    "line_y = - line_coeff1/line_coeff2 * line_x + plot_cm/line_coeff2"
   ]
  },
  {
   "cell_type": "code",
   "execution_count": 30,
   "id": "7ae99528",
   "metadata": {},
   "outputs": [
    {
     "data": {
      "text/plain": [
       "Text(0, 0.5, '$X_2$')"
      ]
     },
     "execution_count": 30,
     "metadata": {},
     "output_type": "execute_result"
    },
    {
     "data": {
      "image/png": "[encoded data removed]",
      "text/plain": [
       "<Figure size 1200x750 with 1 Axes>"
      ]
     },
     "metadata": {
      "needs_background": "light"
     },
     "output_type": "display_data"
    }
   ],
   "source": [
    "plt.rc('text', usetex=True)\n",
    "plt.rc('font', family='serif')\n",
    "\n",
    "plt.figure(figsize=(8,5), dpi=150)\n",
    "\n",
    "plt.scatter(np.array(x1[:,0]), np.array(x1[:,1]), color=\"orange\", label=\"class 1\")\n",
    "plt.scatter(np.array(x2[:,0]), np.array(x2[:,1]), color=\"skyblue\", label=\"class 2\")\n",
    "\n",
    "plt.scatter(np.array(mu_hat(plot_x1[:,0], 40)), np.array(mu_hat(plot_x1[:,1], 40)), label=r\"$\\mu_1$\")\n",
    "plt.scatter(np.array(mu_hat(plot_x2[:,0], 60)), np.array(mu_hat(plot_x2[:,1], 60)), label=r\"$\\mu_2$\")\n",
    "\n",
    "plt.scatter(plot_new_x[0], plot_new_x[1],color=\"red\", label=\"New\")\n",
    "\n",
    "plt.plot(line_x, line_y, label=\"D.B.\")\n",
    "\n",
    "plt.legend(loc=\"lower right\", ncol=2)\n",
    "\n",
    "plt.xlabel(r'$X_1$', fontsize=14)\n",
    "plt.ylabel(r'$X_2$', fontsize=14)"
   ]
  },
  {
   "cell_type": "code",
   "execution_count": 36,
   "id": "7385c7e2",
   "metadata": {},
   "outputs": [
    {
     "data": {
      "text/plain": [
       "Text(0, 0.5, 'Number')"
      ]
     },
     "execution_count": 36,
     "metadata": {},
     "output_type": "execute_result"
    },
    {
     "data": {
      "image/png": "[encoded data removed]",
      "text/plain": [
       "<Figure size 1200x750 with 1 Axes>"
      ]
     },
     "metadata": {
      "needs_background": "light"
     },
     "output_type": "display_data"
    }
   ],
   "source": [
    "plt.figure(figsize=(8,5), dpi=150)\n",
    "\n",
    "plt.hist(np.array(plot_x1 * plot_coeffs_2k), color=\"lightcoral\" ,alpha=0.7, label=\"class 1\")\n",
    "plt.hist(np.array(plot_x2 * plot_coeffs_2k), color=\"darkcyan\", alpha=0.7, label=\"class 2\")\n",
    "\n",
    "proj_new_x = (plot_new_x * plot_coeffs_2k)[0,0]\n",
    "plt.plot(proj_new_x * np.ones(2), np.arange(2),ls=\"dashed\" ,color = \"red\")\n",
    "plt.plot(plot_cm * np.ones(19), np.arange(19))\n",
    "\n",
    "plt.annotate('New', xy=(-0.018,1), c=\"red\",fontsize=15)\n",
    "plt.annotate('D.B.', xy=(-0.021,14), c=\"blue\",fontsize=15)\n",
    "\n",
    "plt.ylim([0,18])\n",
    "plt.legend()\n",
    "\n",
    "plt.xlabel(r'Projected value', fontsize=14)\n",
    "plt.ylabel(r'Number', fontsize=14)\n"
   ]
  },
  {
   "cell_type": "code",
   "execution_count": 32,
   "id": "7973c327",
   "metadata": {},
   "outputs": [
    {
     "data": {
      "text/plain": [
       "-0.01851681417958085"
      ]
     },
     "execution_count": 32,
     "metadata": {},
     "output_type": "execute_result"
    }
   ],
   "source": [
    "proj_new_x"
   ]
  },
  {
   "cell_type": "code",
   "execution_count": 33,
   "id": "045b88cf",
   "metadata": {},
   "outputs": [
    {
     "data": {
      "text/plain": [
       "array([-0.01034592, -0.00736792, -0.01169098, -0.00762173, -0.00881538,\n",
       "       -0.01128629, -0.00708009, -0.00818481, -0.00846493, -0.01259261,\n",
       "       -0.01324622, -0.00989421, -0.01352866, -0.00663956, -0.00857406,\n",
       "       -0.01222637, -0.00866465, -0.01078465, -0.01006733, -0.0106753 ,\n",
       "       -0.00973344, -0.00569246, -0.0085208 , -0.00716   , -0.01064839,\n",
       "       -0.00471942, -0.00695248, -0.0124345 , -0.0107575 , -0.0149687 ,\n",
       "       -0.00825596, -0.00288569, -0.01056718, -0.00879003, -0.00864513,\n",
       "       -0.00623843, -0.00886803, -0.01024133, -0.00955688, -0.01047823])"
      ]
     },
     "execution_count": 33,
     "metadata": {},
     "output_type": "execute_result"
    }
   ],
   "source": [
    "np.asarray(plot_x1 * plot_coeffs_2k).ravel()"
   ]
  },
  {
   "cell_type": "code",
   "execution_count": null,
   "id": "783927f0",
   "metadata": {},
   "outputs": [],
   "source": []
  },
  {
   "cell_type": "code",
   "execution_count": null,
   "id": "e4f3a910",
   "metadata": {},
   "outputs": [],
   "source": []
  }
 ],
 "metadata": {
  "kernelspec": {
   "display_name": "Python 3",
   "language": "python",
   "name": "python3"
  },
  "language_info": {
   "codemirror_mode": {
    "name": "ipython",
    "version": 3
   },
   "file_extension": ".py",
   "mimetype": "text/x-python",
   "name": "python",
   "nbconvert_exporter": "python",
   "pygments_lexer": "ipython3",
   "version": "3.9.5"
  }
 },
 "nbformat": 4,
 "nbformat_minor": 5
}
