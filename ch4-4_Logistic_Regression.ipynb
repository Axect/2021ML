{
 "cells": [
  {
   "cell_type": "markdown",
   "id": "bc6fecc0",
   "metadata": {},
   "source": [
    "<h1 style=\"text-align:center\">Logistic Regression</h1> "
   ]
  },
  {
   "cell_type": "code",
   "execution_count": 1,
   "id": "9e56b2a4",
   "metadata": {},
   "outputs": [],
   "source": [
    "import numpy as np\n",
    "import matplotlib.pyplot as plt\n",
    "import statsmodels.api as sm"
   ]
  },
  {
   "cell_type": "markdown",
   "id": "86b39f0c",
   "metadata": {},
   "source": [
    "## 1. Fit a regression model  For the binary classification (K=2)"
   ]
  },
  {
   "cell_type": "markdown",
   "id": "402af4d4",
   "metadata": {},
   "source": [
    "The log-odds ratio is:\n",
    "\n",
    "$$\\log \\frac{P}{1-P} = \\beta_0 + \\sum_{i=0}^p \\beta_i^T x_i$$"
   ]
  },
  {
   "cell_type": "code",
   "execution_count": 18,
   "id": "dcfbdc3b",
   "metadata": {},
   "outputs": [
    {
     "data": {
      "text/plain": [
       "[<matplotlib.lines.Line2D at 0x7f2d01b45a30>]"
      ]
     },
     "execution_count": 18,
     "metadata": {},
     "output_type": "execute_result"
    },
    {
     "data": {
      "image/png": "[encoded data removed]",
      "text/plain": [
       "<Figure size 432x288 with 1 Axes>"
      ]
     },
     "metadata": {
      "needs_background": "light"
     },
     "output_type": "display_data"
    }
   ],
   "source": [
    "plt.plot(np.arange(-10,10), np.exp(np.arange(-10,10))/(1 + np.exp(np.arange(-10,10))))\n",
    "#plt.plot(np.arange(-2,3), np.arange(-2,3))\n",
    "#plt.ylim([-2,2])"
   ]
  },
  {
   "cell_type": "markdown",
   "id": "e5ddb54f",
   "metadata": {},
   "source": [
    "Assume that the probability has the form as:\n",
    "\n",
    "$$P(G = k|X=x) = \\frac{\\exp(\\beta_{k0} + \\sum_{i=1}^p \\beta_{ki}^T x_{ki})}{1 + \\exp(\\beta_{k0} + \\sum_{i=1}^p \\beta_{ki}^T x_{ki})}$$\n",
    "\n",
    "and then\n",
    "\n",
    "$$1 - P(G = k|X=x) = \\frac{1}{1 + \\exp(\\beta_{k0} + \\sum_{i=1}^p \\beta_{ki}^T x_{ki})}$$"
   ]
  },
  {
   "cell_type": "markdown",
   "id": "b589f5ea",
   "metadata": {},
   "source": [
    "Fit the logistic regression models by maximum (log-)likelihood, which is written as (Bernoulli distribution) :\n",
    "\n",
    "$$\\ell(\\beta) = \\sum_{i=1}^N \\left( y_i \\log p(x_i;\\beta) + (1-y_i) \\log (1-  p(x_i;\\beta)) \\right)$$\n",
    "\n",
    "These score equations are:\n",
    "\n",
    "$$\\frac{\\partial \\ell (\\beta)}{\\partial \\beta} = \\sum_{i=1}^N x_i (y_i - p(x_i;\\beta)) = 0$$\n",
    "\n",
    "and second-derivatives are:\n",
    "\n",
    "$$\\frac{\\partial^2 \\ell (\\beta)}{\\partial \\beta \\partial \\beta^T} = \\sum_{i=1}^N x_i x_i^T p(x_i;\\beta)(1 - p(x_i;\\beta))$$\n",
    "\n",
    "To solve the score equations, use the Newton-Raphson algorithm:\n",
    "\n",
    "$$\\beta^\\text{new} = \\beta^\\text{old} - \\left( \\frac{\\partial \\ell (\\beta)}{\\partial \\beta \\partial \\beta^T}  \\right)^{-1}\\frac{\\partial \\ell (\\beta)}{\\partial \\beta}$$"
   ]
  },
  {
   "cell_type": "markdown",
   "id": "c3272a43",
   "metadata": {},
   "source": [
    "### In matrix notation,\n",
    "\n",
    "$$\\frac{\\partial \\ell (\\beta)}{\\partial \\beta} =  \\mathbf{X}^T (\\mathbf{y} - \\mathbf{p})$$\n",
    "$$\\frac{\\partial \\ell (\\beta)}{\\partial \\beta \\partial \\beta^T} =  - \\mathbf{X}^T \\mathbf{W} \\mathbf{X}$$\n",
    "\n",
    "\n",
    "$$\\beta^\\text{new} = \\left( \\mathbf{X}^T \\mathbf{W} \\mathbf{X} \\right)^{-1} \\mathbf{X}^T \\mathbf{W} \\underbrace{\\left( \\mathbf{X}\\beta^\\text{old} + \\mathbf{W}^{-1} (\\mathbf{y} - \\mathbf{p}) \\right)}_{= \\; \\mathbf{z}}$$\n",
    "\n",
    "This is referred to as iteratively reweighted least squares(IRLS) and it means that each steps is obtained by solving the weighted least squares:\n",
    "\n",
    "$$\\beta^\\text{new} \\leftarrow \\mathrm{arg \\; min}_\\beta (\\mathbf{z} - \\mathbf{X}\\beta)^T \\mathbf{W} (\\mathbf{z} - \\mathbf{X}\\beta)$$\n",
    "\n",
    "- $\\mathbf{y}$ : The vector of $y_i$\n",
    "- $\\mathbf{X}$ : $N \\times (p+1)$ matrix of $x_i$\n",
    "- $\\mathbf{p}$ : The vector of fitted probabilities $p(x_i ; \\beta^\\text{old})$\n",
    "- $\\mathbf{W}$ : $N \\times N$ diagonal matrix of $p(x_i ; \\beta^\\text{old})(1-p(x_i ; \\beta^\\text{old}))$\n",
    "- $\\mathbf{z} = \\mathbf{X}\\beta^\\text{old} + \\mathbf{W}^{-1} (\\mathbf{y} - \\mathbf{p})$ : The adjusted reponse"
   ]
  },
  {
   "cell_type": "code",
   "execution_count": 3,
   "id": "a5832939",
   "metadata": {},
   "outputs": [],
   "source": [
    "# Fit a Logistic regression model\n",
    "\n",
    "def beta_new(X, beta0, y, step=100):\n",
    "    beta = beta0\n",
    "    p = find_p(X, beta)\n",
    "    W = find_W(p)\n",
    "    z = find_z(X, beta, W, y,p)\n",
    "    \n",
    "    for i in range(step):\n",
    " #       print(i)\n",
    "        beta = find_beta_new(X,W,z)\n",
    "        p = find_p(X, beta)\n",
    "        W = find_W(p)\n",
    "        z = find_z(X, beta, W, y,p)\n",
    "        \n",
    "    return beta\n",
    "    \n",
    "def find_beta_new(X,W,z):\n",
    "    xwx = X.T * W * X \n",
    "    return  np.linalg.inv(xwx)*X.T*W* z \n",
    "\n",
    "def find_z(X, beta_old, W, y, p):\n",
    "    return  X * beta_old + np.linalg.pinv(W) * (y - p)\n",
    "\n",
    "def find_W(p):\n",
    "    W = np.zeros((p.shape[0], p.shape[0]))\n",
    "    for i in range(p.shape[0]):\n",
    "        W[i,i] = p[i,0] * (1 - p[i,0])\n",
    "    return W # NXN matrix\n",
    "\n",
    "def find_p(X, beta_old):\n",
    "    E = np.exp(X * beta_old)\n",
    "    return E/(1+ E)    \n",
    "\n",
    "def find_G(X, beta):\n",
    "    p = find_p(X, beta)\n",
    "    if p < 0.5:\n",
    "        print(\"Class 2\")\n",
    "    elif p > 0.5:\n",
    "        print(\"Class 1\")\n",
    "    else:\n",
    "        print(\"on boundary\")"
   ]
  },
  {
   "cell_type": "markdown",
   "id": "4e9efde1",
   "metadata": {},
   "source": [
    "## 2. Implementation for Example"
   ]
  },
  {
   "cell_type": "markdown",
   "id": "f6038ac4",
   "metadata": {},
   "source": [
    "\n",
    "- The number of data, $N = 100$\n",
    "- The number of features, $p = 2$\n",
    "- The number of classes, $K = 2$\n",
    "\n",
    "$$y_i = \n",
    "\\begin{cases}\n",
    "1 \\; ,& K = 1 \\\\ 0 \\; ,& K = 2 \n",
    "\\end{cases}$$\n",
    "\n",
    "then,\n",
    "\n",
    "$$\\begin{align}\n",
    "p_1 &= Pr(G=1|X=x_i; \\beta) \\\\\n",
    "p_2 & = Pr(G=2|X=x_i; \\beta) = 1 - p_1\n",
    "\\end{align}$$"
   ]
  },
  {
   "cell_type": "code",
   "execution_count": 4,
   "id": "ee4e7990",
   "metadata": {},
   "outputs": [
    {
     "data": {
      "text/plain": [
       "(100, 3)"
      ]
     },
     "execution_count": 4,
     "metadata": {},
     "output_type": "execute_result"
    }
   ],
   "source": [
    "np.random.seed(15)\n",
    "\n",
    "x1 = np.random.normal(loc=0.8,scale=0.1,size=(40,2)) # class 1\n",
    "\n",
    "x2_x = np.random.normal(1.2, 0.1, size=(60,1)) \n",
    "x2_y = np.random.normal(2.5, 0.2, size=(60,1))\n",
    "x2 = np.column_stack([x2_x,x2_y]) # class 2\n",
    "\n",
    "X = np.matrix(np.vstack((x1, x2)))\n",
    "X_add_1 = sm.add_constant(X)\n",
    "X_add_1.shape"
   ]
  },
  {
   "cell_type": "code",
   "execution_count": 5,
   "id": "84874967",
   "metadata": {},
   "outputs": [],
   "source": [
    "y1 = np.ones(40).reshape(40,1)\n",
    "y2 = np.zeros(60).reshape(60,1)\n",
    "\n",
    "y = np.matrix(np.vstack((y1, y2)))"
   ]
  },
  {
   "cell_type": "code",
   "execution_count": 6,
   "id": "14938547",
   "metadata": {},
   "outputs": [
    {
     "data": {
      "text/plain": [
       "(3, 1)"
      ]
     },
     "execution_count": 6,
     "metadata": {},
     "output_type": "execute_result"
    }
   ],
   "source": [
    "beta0 = np.matrix([0,0,0]).reshape(3,1)\n",
    "beta0.shape"
   ]
  },
  {
   "cell_type": "code",
   "execution_count": 7,
   "id": "4abd16ed",
   "metadata": {},
   "outputs": [],
   "source": [
    "p0 = find_p(X_add_1, beta0)"
   ]
  },
  {
   "cell_type": "code",
   "execution_count": 8,
   "id": "560b99ef",
   "metadata": {},
   "outputs": [],
   "source": [
    "W0 = find_W(p0)"
   ]
  },
  {
   "cell_type": "code",
   "execution_count": 9,
   "id": "79e870cf",
   "metadata": {},
   "outputs": [],
   "source": [
    "Z0 = find_z(X_add_1, beta0, W0, y, p0)"
   ]
  },
  {
   "cell_type": "code",
   "execution_count": 10,
   "id": "49adc001",
   "metadata": {},
   "outputs": [],
   "source": [
    "beta = beta_new(X_add_1, beta0, y,50)"
   ]
  },
  {
   "cell_type": "markdown",
   "id": "d9617b9d",
   "metadata": {},
   "source": [
    "### Test"
   ]
  },
  {
   "cell_type": "code",
   "execution_count": 11,
   "id": "25b61408",
   "metadata": {},
   "outputs": [],
   "source": [
    "new_x = np.matrix([1, 1, 1.5])"
   ]
  },
  {
   "cell_type": "code",
   "execution_count": 12,
   "id": "6b38d902",
   "metadata": {},
   "outputs": [
    {
     "name": "stdout",
     "output_type": "stream",
     "text": [
      "Class 2\n"
     ]
    }
   ],
   "source": [
    "find_G(new_x, beta)"
   ]
  },
  {
   "cell_type": "markdown",
   "id": "125a08ac",
   "metadata": {},
   "source": [
    "### Plot"
   ]
  },
  {
   "cell_type": "code",
   "execution_count": 13,
   "id": "fd0d162b",
   "metadata": {},
   "outputs": [
    {
     "data": {
      "text/plain": [
       "<matplotlib.legend.Legend at 0x7f2d01c6f160>"
      ]
     },
     "execution_count": 13,
     "metadata": {},
     "output_type": "execute_result"
    },
    {
     "data": {
      "image/png": "[encoded data removed]",
      "text/plain": [
       "<Figure size 432x288 with 1 Axes>"
      ]
     },
     "metadata": {
      "needs_background": "light"
     },
     "output_type": "display_data"
    }
   ],
   "source": [
    "plt.scatter(x1[:,0], x1[:,1], color=\"orange\", label=\"Class 1\")\n",
    "plt.scatter(x2[:,0], x2[:,1], color=\"skyblue\", label=\"Class 2\")\n",
    "plt.scatter(new_x[0,1], new_x[0,2], color=\"red\")\n",
    "\n",
    "plt.legend()"
   ]
  },
  {
   "cell_type": "code",
   "execution_count": 14,
   "id": "94d87e9e",
   "metadata": {},
   "outputs": [],
   "source": [
    "domain_x = np.arange(0.6, 1.4, 0.01)\n",
    "domain_y = np.arange(0.5, 3.0, 0.01)"
   ]
  },
  {
   "cell_type": "markdown",
   "id": "5de1f4a1",
   "metadata": {},
   "source": [
    "### Decision Boundary"
   ]
  },
  {
   "cell_type": "markdown",
   "id": "3bc32112",
   "metadata": {},
   "source": [
    "$$\\ln{\\frac{p}{1-p}} = \\ln 1 = 0 = X \\beta = \\beta_0 + \\beta_1 x_1 + \\beta_2 x_2$$"
   ]
  },
  {
   "cell_type": "code",
   "execution_count": 15,
   "id": "1248d3bc",
   "metadata": {},
   "outputs": [],
   "source": [
    "def calc_boundary(xs, beta):\n",
    "    return -1/beta[2,0] * (beta[1,0] * xs + beta[0,0])"
   ]
  },
  {
   "cell_type": "code",
   "execution_count": 16,
   "id": "fbb88283",
   "metadata": {},
   "outputs": [
    {
     "data": {
      "text/plain": [
       "Text(0, 0.5, '$X_2$')"
      ]
     },
     "execution_count": 16,
     "metadata": {},
     "output_type": "execute_result"
    },
    {
     "data": {
      "image/png": "[encoded data removed]",
      "text/plain": [
       "<Figure size 1200x750 with 1 Axes>"
      ]
     },
     "metadata": {
      "needs_background": "light"
     },
     "output_type": "display_data"
    }
   ],
   "source": [
    "plt.figure(figsize=(8,5), dpi=150)\n",
    "\n",
    "plt.plot(domain_x, calc_boundary(domain_x, beta), label=\"D.B.\")\n",
    "plt.scatter(x1[:,0], x1[:,1], color=\"orange\", label=\"Class 1\")\n",
    "plt.scatter(x2[:,0], x2[:,1], color=\"skyblue\", label=\"Class 2\")\n",
    "plt.scatter(new_x[0,1], new_x[0,2], color=\"red\")\n",
    "\n",
    "plt.legend()\n",
    "plt.xlabel(r'$X_1$', fontsize=14)\n",
    "plt.ylabel(r'$X_2$', fontsize=14)"
   ]
  },
  {
   "cell_type": "code",
   "execution_count": null,
   "id": "31d60a5f",
   "metadata": {},
   "outputs": [],
   "source": []
  },
  {
   "cell_type": "code",
   "execution_count": null,
   "id": "f4db16ac",
   "metadata": {},
   "outputs": [],
   "source": []
  },
  {
   "cell_type": "code",
   "execution_count": null,
   "id": "a8cd73e9",
   "metadata": {},
   "outputs": [],
   "source": []
  }
 ],
 "metadata": {
  "kernelspec": {
   "display_name": "Python 3",
   "language": "python",
   "name": "python3"
  },
  "language_info": {
   "codemirror_mode": {
    "name": "ipython",
    "version": 3
   },
   "file_extension": ".py",
   "mimetype": "text/x-python",
   "name": "python",
   "nbconvert_exporter": "python",
   "pygments_lexer": "ipython3",
   "version": "3.9.5"
  }
 },
 "nbformat": 4,
 "nbformat_minor": 5
}
